{
 "cells": [
  {
   "attachments": {},
   "cell_type": "markdown",
   "metadata": {},
   "source": [
    "# Object Oriented Programming"
   ]
  },
  {
   "attachments": {},
   "cell_type": "markdown",
   "metadata": {},
   "source": [
    "## Class definitions and encapsulation and abstraction"
   ]
  },
  {
   "attachments": {},
   "cell_type": "markdown",
   "metadata": {},
   "source": [
    "- \\_\\_init\\_\\_ is the constructor\n",
    "- it is also where object attributes are defined\n",
    "- instance methods' first argument is always self"
   ]
  },
  {
   "cell_type": "code",
   "execution_count": 1,
   "metadata": {},
   "outputs": [],
   "source": [
    "class Example:\n",
    "\n",
    "    # class attribute\n",
    "    instance_counter = 0\n",
    "\n",
    "    # private class attribute\n",
    "    __secret_thing = \"asdasad\"\n",
    "\n",
    "    def __init__(self, ozellik, priv_ozellik):\n",
    "        # object attribute\n",
    "        self.ozellik = ozellik\n",
    "\n",
    "        # private object attribute\n",
    "        self.__priv_ozellik = priv_ozellik\n",
    "        Example.instance_counter += 1\n",
    "\n",
    "    # getter for private class attribute\n",
    "    def getSecretThing(self):\n",
    "        return Example.__secret_thing\n",
    "\n",
    "    # setter for private class attribute\n",
    "    def setSecretThing(self, new_secret_thing):\n",
    "        Example.__secret_thing = new_secret_thing\n",
    "\n",
    "    # getter for private object attribute\n",
    "    def getPrivOzellik(self):\n",
    "        return self.__priv_ozellik\n",
    "\n",
    "    # setter for private object attribute\n",
    "    def setPrivOzellik(self, new_priv_ozellik):\n",
    "        self.__priv_ozellik = new_priv_ozellik\n",
    "\n",
    "    # object method\n",
    "    def example_method(self, text):\n",
    "        print(\"My ozellik is {} and I also wanna say that {}\".format(self.ozellik, text))\n",
    "\n",
    "    # private object method\n",
    "    def __secret_method(self):\n",
    "        return \"This is such a secret message\"\n",
    "\n",
    "    # class method\n",
    "    @staticmethod\n",
    "    def static_method():\n",
    "        return \"This is such a static message\""
   ]
  },
  {
   "attachments": {},
   "cell_type": "markdown",
   "metadata": {},
   "source": [
    "object attributes that start with \"__\" are unreachable outside object, getters and setters are necessary\n"
   ]
  },
  {
   "cell_type": "code",
   "execution_count": 2,
   "metadata": {},
   "outputs": [
    {
     "name": "stdout",
     "output_type": "stream",
     "text": [
      "a\n",
      "private attribute, can't reach\n"
     ]
    }
   ],
   "source": [
    "ex1 = Example(\"a\", \"b\")\n",
    "print(ex1.ozellik)\n",
    "\n",
    "try:\n",
    "    print(ex1.__priv_ozellik)\n",
    "except:\n",
    "\tprint(\"private attribute, can't reach\")"
   ]
  },
  {
   "attachments": {},
   "cell_type": "markdown",
   "metadata": {},
   "source": [
    "- class attributes are directly tied to class itself\n",
    "- so, class attributes independently exist from objects\n",
    "- objects can override these class attributes, then they can store different values and they are not affected by the changes in class attribute\n",
    "\n"
   ]
  },
  {
   "cell_type": "code",
   "execution_count": 3,
   "metadata": {},
   "outputs": [
    {
     "name": "stdout",
     "output_type": "stream",
     "text": [
      "1\n",
      "1 \n",
      "\n",
      "2\n",
      "2 \n",
      "\n",
      "5\n",
      "2 \n",
      "\n",
      "5\n",
      "10\n",
      "10\n"
     ]
    }
   ],
   "source": [
    "print(ex1.instance_counter)\n",
    "print(Example.instance_counter, \"\\n\")\n",
    "\n",
    "ex2 = Example(\"c\", \"d\")\n",
    "print(ex2.instance_counter)\n",
    "print(Example.instance_counter, \"\\n\")\n",
    "\n",
    "ex2.instance_counter = 5\n",
    "print(ex2.instance_counter)\n",
    "print(Example.instance_counter, \"\\n\")\n",
    "\n",
    "Example.instance_counter = 10\n",
    "print(ex2.instance_counter)\n",
    "print(Example.instance_counter)\n",
    "print(ex1.instance_counter)"
   ]
  },
  {
   "attachments": {},
   "cell_type": "markdown",
   "metadata": {},
   "source": [
    "- class attributes themselves can also be private\n",
    "- in this case, objects and class still can access them inside definition\n"
   ]
  },
  {
   "cell_type": "code",
   "execution_count": 4,
   "metadata": {},
   "outputs": [
    {
     "name": "stdout",
     "output_type": "stream",
     "text": [
      "cannot reach private class attribute\n"
     ]
    },
    {
     "data": {
      "text/plain": [
       "'a'"
      ]
     },
     "execution_count": 4,
     "metadata": {},
     "output_type": "execute_result"
    }
   ],
   "source": [
    "try:\n",
    "\tprint(Example.__secret_thing)\n",
    "except:\n",
    "\tprint(\"cannot reach private class attribute\")\n",
    "\n",
    "ex1.setSecretThing(\"a\")\n",
    "ex2.getSecretThing()"
   ]
  },
  {
   "attachments": {},
   "cell_type": "markdown",
   "metadata": {},
   "source": [
    "object and class methods can be private"
   ]
  },
  {
   "cell_type": "code",
   "execution_count": 5,
   "metadata": {},
   "outputs": [
    {
     "name": "stdout",
     "output_type": "stream",
     "text": [
      "cannot access private method\n"
     ]
    }
   ],
   "source": [
    "try:\n",
    "\tex1.__secret_method()\n",
    "except:\n",
    "\tprint(\"cannot access private method\")"
   ]
  },
  {
   "attachments": {},
   "cell_type": "markdown",
   "metadata": {},
   "source": [
    "- class methods are like static functions in other languages\n",
    "- they can be called from class or objects"
   ]
  },
  {
   "cell_type": "code",
   "execution_count": 6,
   "metadata": {},
   "outputs": [
    {
     "name": "stdout",
     "output_type": "stream",
     "text": [
      "This is such a static message\n",
      "This is such a static message\n"
     ]
    }
   ],
   "source": [
    "print(ex1.static_method())\n",
    "\n",
    "print(Example.static_method())"
   ]
  },
  {
   "attachments": {},
   "cell_type": "markdown",
   "metadata": {},
   "source": [
    "## Inheritance and polymorphism"
   ]
  },
  {
   "cell_type": "code",
   "execution_count": 7,
   "metadata": {},
   "outputs": [],
   "source": [
    "class Animal():\n",
    "    def __init__(self):\n",
    "        print(\"Animal created\")\n",
    "\n",
    "    def who_am_i(self):\n",
    "        print(\"I am an animal\")\n",
    "\n",
    "    def eat(self):\n",
    "        print(\"I am eating\")\n",
    "\n",
    "# a child class that adds no functionality\n",
    "class SimpleAnimal(Animal):\n",
    "    pass\n",
    "\n",
    "# single inheritance\n",
    "class Cat(Animal):\n",
    "\n",
    "    def __init__(self, name):\n",
    "        super().__init__()\n",
    "        self.name = name\n",
    "        print(\"Cat created\")\n",
    "\n",
    "    def who_am_i(self):\n",
    "        print(\"I am a cat\")\n",
    "\n",
    "    def speak(self):\n",
    "        print(\"Miyav! My name is {}\".format(self.name))\n",
    "\n",
    "class BoneLovingAnimal(Animal):\n",
    "\n",
    "    def __init__(self, eaten_bone_count):\n",
    "        super().__init__()\n",
    "        self.eaten_bone_count = eaten_bone_count\n",
    "\n",
    "    def loves_bones():\n",
    "        return \"Yes I love bones\"\n",
    "\n",
    "class OmnivoreAnimal(Animal):\n",
    "\n",
    "    def __init__(self):\n",
    "        super().__init__()\n",
    "        self.diet_type = \"omnivore\"\n",
    "\n",
    "# multiple inheritance\n",
    "class Dog(BoneLovingAnimal, OmnivoreAnimal):\n",
    "\n",
    "    def __init__(self, name, eaten_bone_count):\n",
    "        BoneLovingAnimal.__init__(self, eaten_bone_count)\n",
    "        OmnivoreAnimal.__init__(self)\n",
    "        self.name = name\n",
    "        print(\"Dog created\")\n",
    "\n",
    "    def who_am_i(self):\n",
    "        print(\"I am a dog\")\n",
    "\n",
    "    def speak(self):\n",
    "        print(f\"Hav hav! My name is {self.name}. I am {self.diet_type}. I've eaten {self.eaten_bone_count} bones.\")\n"
   ]
  },
  {
   "attachments": {},
   "cell_type": "markdown",
   "metadata": {},
   "source": [
    "- While inheriting from a parent class, it is not a must to define constructor.\n",
    "- If child constructor is not defined, then parent constructor runs.\n",
    "- If child constructor is defined, it overrides parent constructor, and parent constructor does not automatically run (unlike C++)\n",
    "- In the child constructor definition, it not a must to call parent class constructor.\n",
    "- If the logic inside parent constructor also applies to child class, then running parent class constructor inside child constructor is beneficial for code readability and cleaner code.\n",
    "- super() can be used to refer to parent class.\n",
    "- super() usage with multiple inheritance is non-trivial."
   ]
  },
  {
   "cell_type": "code",
   "execution_count": 8,
   "metadata": {},
   "outputs": [
    {
     "name": "stdout",
     "output_type": "stream",
     "text": [
      "Animal created\n",
      "Animal created\n",
      "Dog created\n",
      "Animal created\n",
      "Cat created\n"
     ]
    }
   ],
   "source": [
    "dog1 = Dog(\"Kangal\", 3)\n",
    "cat1 = Cat(\"Pamuk\")"
   ]
  },
  {
   "attachments": {},
   "cell_type": "markdown",
   "metadata": {},
   "source": [
    "Polymorphism:"
   ]
  },
  {
   "cell_type": "code",
   "execution_count": 9,
   "metadata": {},
   "outputs": [],
   "source": [
    "def pet_speak(pet):\n",
    "    pet.speak()"
   ]
  },
  {
   "cell_type": "code",
   "execution_count": 10,
   "metadata": {},
   "outputs": [
    {
     "name": "stdout",
     "output_type": "stream",
     "text": [
      "Hav hav! My name is Kangal. I am omnivore. I've eaten 3 bones.\n"
     ]
    }
   ],
   "source": [
    "pet_speak(dog1)"
   ]
  },
  {
   "cell_type": "code",
   "execution_count": 11,
   "metadata": {},
   "outputs": [
    {
     "name": "stdout",
     "output_type": "stream",
     "text": [
      "Miyav! My name is Pamuk\n"
     ]
    }
   ],
   "source": [
    "pet_speak(cat1)"
   ]
  },
  {
   "attachments": {},
   "cell_type": "markdown",
   "metadata": {},
   "source": [
    "Defining special / magical methods:"
   ]
  },
  {
   "cell_type": "code",
   "execution_count": 12,
   "metadata": {},
   "outputs": [],
   "source": [
    "class Book():\n",
    "    def __init__(self, title, author, pages):\n",
    "        self.title = title\n",
    "        self.author = author\n",
    "        self.pages = pages\n",
    "\n",
    "    # str()\n",
    "    def __str__(self):\n",
    "        return f\"{self.title} by {self.author}, {self.pages} pages long\"\n",
    "\n",
    "    # len()\n",
    "    def __len__(self):\n",
    "        return self.pages\n",
    "\n",
    "    # \"+\" operator\n",
    "    def __add__(self: 'Book', other: 'Book') -> 'Book':\n",
    "        return Book(self.title + \" & \" + other.title, self.author + \" & \" + other.author, self.pages + other.pages)\n",
    "\n",
    "    # del keyword\n",
    "    def __del__(self):\n",
    "        print(\"A Book object has been deleted.\")"
   ]
  },
  {
   "attachments": {},
   "cell_type": "markdown",
   "metadata": {},
   "source": [
    "Note that for type hinting \\_\\_add\\_\\_(), it is necessary to refer to Book class, which is not defined yet. So, 'Class' can be used to overcome."
   ]
  },
  {
   "cell_type": "code",
   "execution_count": 13,
   "metadata": {},
   "outputs": [
    {
     "name": "stdout",
     "output_type": "stream",
     "text": [
      "Baslik & Title by Yazar & Author, 138 pages long\n",
      "A Book object has been deleted.\n"
     ]
    }
   ],
   "source": [
    "a = Book(\"Baslik\", \"Yazar\", 82)\n",
    "b = Book(\"Title\", \"Author\", 56)\n",
    "\n",
    "print(a + b)"
   ]
  },
  {
   "attachments": {},
   "cell_type": "markdown",
   "metadata": {},
   "source": [
    "If a string representation (\\_\\_str\\_\\_) is not defined for a class, print() prints the memory location of the object"
   ]
  },
  {
   "cell_type": "code",
   "execution_count": 14,
   "metadata": {},
   "outputs": [
    {
     "name": "stdout",
     "output_type": "stream",
     "text": [
      "Title by Author, 56 pages long\n"
     ]
    }
   ],
   "source": [
    "print(b) # equivalent to print(str(b))"
   ]
  },
  {
   "cell_type": "code",
   "execution_count": 15,
   "metadata": {},
   "outputs": [
    {
     "data": {
      "text/plain": [
       "'Title by Author, 56 pages long'"
      ]
     },
     "execution_count": 15,
     "metadata": {},
     "output_type": "execute_result"
    }
   ],
   "source": [
    "str(b)"
   ]
  },
  {
   "cell_type": "code",
   "execution_count": 16,
   "metadata": {},
   "outputs": [
    {
     "data": {
      "text/plain": [
       "56"
      ]
     },
     "execution_count": 16,
     "metadata": {},
     "output_type": "execute_result"
    }
   ],
   "source": [
    "len(b)"
   ]
  },
  {
   "cell_type": "markdown",
   "metadata": {},
   "source": [
    "### del değişkeni siliyor -obviously-. bu del en baştan tanımlanamıyor tabii ki de, ama sanki bir destructor'mış gibi silme işlemine ekstra özellikler eklenebiliyor, silerken konsola bişeyler yazdırmak gibi."
   ]
  },
  {
   "cell_type": "code",
   "execution_count": 17,
   "metadata": {},
   "outputs": [
    {
     "name": "stdout",
     "output_type": "stream",
     "text": [
      "A Book object has been deleted.\n",
      "b not found\n"
     ]
    }
   ],
   "source": [
    "del b\n",
    "\n",
    "try:\n",
    "    print(b)\n",
    "except:\n",
    "    print(\"b not found\")"
   ]
  }
 ],
 "metadata": {
  "kernelspec": {
   "display_name": "Python 3",
   "language": "python",
   "name": "python3"
  },
  "language_info": {
   "codemirror_mode": {
    "name": "ipython",
    "version": 3
   },
   "file_extension": ".py",
   "mimetype": "text/x-python",
   "name": "python",
   "nbconvert_exporter": "python",
   "pygments_lexer": "ipython3",
   "version": "3.10.11"
  }
 },
 "nbformat": 4,
 "nbformat_minor": 4
}
