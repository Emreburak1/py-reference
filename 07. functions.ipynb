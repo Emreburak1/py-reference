{
 "cells": [
  {
   "attachments": {},
   "cell_type": "markdown",
   "metadata": {},
   "source": [
    "# Functions"
   ]
  },
  {
   "attachments": {},
   "cell_type": "markdown",
   "metadata": {},
   "source": [
    "## Defining and Calling Functions"
   ]
  },
  {
   "attachments": {},
   "cell_type": "markdown",
   "metadata": {},
   "source": [
    "Normally, a function needs all of its parameters to run."
   ]
  },
  {
   "cell_type": "code",
   "execution_count": 1,
   "metadata": {},
   "outputs": [],
   "source": [
    "def even_check(number):\n",
    "    return number % 2 == 0"
   ]
  },
  {
   "cell_type": "code",
   "execution_count": 2,
   "metadata": {},
   "outputs": [
    {
     "data": {
      "text/plain": [
       "True"
      ]
     },
     "execution_count": 2,
     "metadata": {},
     "output_type": "execute_result"
    }
   ],
   "source": [
    "even_check(26)"
   ]
  },
  {
   "cell_type": "code",
   "execution_count": 3,
   "metadata": {},
   "outputs": [
    {
     "name": "stdout",
     "output_type": "stream",
     "text": [
      "function needs argument\n"
     ]
    }
   ],
   "source": [
    "try:\n",
    "\teven_check()\n",
    "except:\n",
    "\tprint(\"function needs argument\")"
   ]
  },
  {
   "attachments": {},
   "cell_type": "markdown",
   "metadata": {},
   "source": [
    "Unless the argument has a default value, then it is kinda optional"
   ]
  },
  {
   "cell_type": "code",
   "execution_count": 4,
   "metadata": {},
   "outputs": [],
   "source": [
    "def say_hello(name=\"[Insert Name Here]\"):\n",
    "    print(f'Hello {name}')"
   ]
  },
  {
   "cell_type": "code",
   "execution_count": 5,
   "metadata": {},
   "outputs": [
    {
     "name": "stdout",
     "output_type": "stream",
     "text": [
      "Hello [Insert Name Here]\n",
      "Hello emre\n"
     ]
    }
   ],
   "source": [
    "say_hello()\n",
    "say_hello(\"emre\")"
   ]
  },
  {
   "cell_type": "code",
   "execution_count": 6,
   "metadata": {},
   "outputs": [
    {
     "data": {
      "text/plain": [
       "True"
      ]
     },
     "execution_count": 6,
     "metadata": {},
     "output_type": "execute_result"
    }
   ],
   "source": [
    "def check_even_list(num_list):\n",
    "    for number in num_list:\n",
    "        if number % 2 == 0:\n",
    "            return True\n",
    "        else:\n",
    "            pass\n",
    "    return False\n",
    "\n",
    "check_even_list([1, 3, 5, 2])"
   ]
  },
  {
   "attachments": {},
   "cell_type": "markdown",
   "metadata": {},
   "source": [
    "It is possible to return multiple values by using collections"
   ]
  },
  {
   "cell_type": "code",
   "execution_count": 7,
   "metadata": {},
   "outputs": [
    {
     "name": "stdout",
     "output_type": "stream",
     "text": [
      "Ürünler içinde en pahalısı Strawberries ve fiyatı 30\n"
     ]
    }
   ],
   "source": [
    "prices_list = [\n",
    "    (\"Apples\", 10),\n",
    "    (\"Bananas\", 20),\n",
    "    (\"Strawberries\", 30)\n",
    "]\n",
    "\n",
    "def price_check(prices_list):\n",
    "    current_max_price = 0\n",
    "    most_exp_item = \"\"\n",
    "\n",
    "    for item, price in prices_list:\n",
    "        if price > current_max_price:\n",
    "            current_max_price = price\n",
    "            most_exp_item = item\n",
    "        else:\n",
    "            pass\n",
    "\n",
    "    return (most_exp_item, current_max_price)\n",
    "\n",
    "pahali_item, fazla_para = price_check(prices_list)\n",
    "print(f\"Ürünler içinde en pahalısı {pahali_item} ve fiyatı {fazla_para}\")"
   ]
  },
  {
   "cell_type": "markdown",
   "metadata": {},
   "source": [
    "### Docstrings"
   ]
  },
  {
   "cell_type": "code",
   "execution_count": 8,
   "metadata": {},
   "outputs": [
    {
     "name": "stdout",
     "output_type": "stream",
     "text": [
      "Help on function least_difference in module __main__:\n",
      "\n",
      "least_difference(a, b, c)\n",
      "    Return the smallest difference between any two numbers\n",
      "    among a, b and c.\n",
      "    \n",
      "    >>> least_difference(1, 5, -5)\n",
      "    4\n",
      "\n"
     ]
    }
   ],
   "source": [
    "def least_difference(a, b, c):\n",
    "    \"\"\"Return the smallest difference between any two numbers\n",
    "    among a, b and c.\n",
    "\n",
    "    >>> least_difference(1, 5, -5)\n",
    "    4\n",
    "    \"\"\"\n",
    "    diff1 = abs(a - b)\n",
    "    diff2 = abs(b - c)\n",
    "    diff3 = abs(a - c)\n",
    "    return min(diff1, diff2, diff3)\n",
    "\n",
    "help(least_difference)"
   ]
  },
  {
   "attachments": {},
   "cell_type": "markdown",
   "metadata": {},
   "source": [
    "### \\*args: multiple arguments interpreted as a tuple containing them while defining the function"
   ]
  },
  {
   "cell_type": "code",
   "execution_count": 9,
   "metadata": {},
   "outputs": [],
   "source": [
    "def my_func(*foo):\n",
    "    print(foo)"
   ]
  },
  {
   "cell_type": "code",
   "execution_count": 10,
   "metadata": {},
   "outputs": [
    {
     "name": "stdout",
     "output_type": "stream",
     "text": [
      "(1, 2, 3, 4, 5)\n"
     ]
    }
   ],
   "source": [
    "my_func(1, 2, 3, 4, 5)"
   ]
  },
  {
   "attachments": {},
   "cell_type": "markdown",
   "metadata": {},
   "source": [
    "### func(*list): list interpreted as multiple arguments while calling the function"
   ]
  },
  {
   "cell_type": "code",
   "execution_count": 11,
   "metadata": {},
   "outputs": [
    {
     "data": {
      "text/plain": [
       "4"
      ]
     },
     "execution_count": 11,
     "metadata": {},
     "output_type": "execute_result"
    }
   ],
   "source": [
    "list1 = [1, 5, -5]\n",
    "\n",
    "least_difference(*list1)"
   ]
  },
  {
   "attachments": {},
   "cell_type": "markdown",
   "metadata": {},
   "source": [
    "### \\*\\*kwargs: many argument-value pairs interpreted as a dictionary containing them"
   ]
  },
  {
   "cell_type": "code",
   "execution_count": 12,
   "metadata": {},
   "outputs": [],
   "source": [
    "def my_func_2(**kwargs):\n",
    "    print(kwargs)\n",
    "\n",
    "    if \"fruit\" in kwargs:\n",
    "        print(f\"My fav fruit is: {kwargs['fruit']}\")\n",
    "    else:\n",
    "        pass\n",
    "\n",
    "    if \"veggie\" in kwargs:\n",
    "        print(f\"My fav veggie is: {kwargs['veggie']}\")\n",
    "    else:\n",
    "        pass"
   ]
  },
  {
   "cell_type": "code",
   "execution_count": 13,
   "metadata": {},
   "outputs": [
    {
     "name": "stdout",
     "output_type": "stream",
     "text": [
      "{'fruit': 'apple', 'veggie': 'patlican'}\n",
      "My fav fruit is: apple\n",
      "My fav veggie is: patlican\n"
     ]
    }
   ],
   "source": [
    "my_func_2(fruit=\"apple\", veggie=\"patlican\")"
   ]
  },
  {
   "attachments": {},
   "cell_type": "markdown",
   "metadata": {},
   "source": [
    "### func(*dict): keys are interpreted as arguments\n",
    "### func(**dict): keys are interpreted as argument names, values are interpreted as argument values"
   ]
  },
  {
   "cell_type": "code",
   "execution_count": 14,
   "metadata": {},
   "outputs": [
    {
     "name": "stdout",
     "output_type": "stream",
     "text": [
      "a: a b: c c: b\n",
      "a: 2 b: 10 c: 4\n",
      "a: a b: d c: b\n",
      "error, function wants c, c is not supplied, instead d is supplied\n"
     ]
    }
   ],
   "source": [
    "def useless_func(a, b, c):\n",
    "    print(\"a:\", a, \"b:\", b, \"c:\", c)\n",
    "\n",
    "dict1 = {'a':2, 'c':4, 'b':10}\n",
    "useless_func(*dict1)\n",
    "useless_func(**dict1)\n",
    "\n",
    "dict2 = {'a':2, 'd':4, 'b':10}\n",
    "useless_func(*dict2)\n",
    "try:\n",
    "    useless_func(**dict2)\n",
    "except:\n",
    "    print(\"error, function wants c, c is not supplied, instead d is supplied\")"
   ]
  },
  {
   "cell_type": "code",
   "execution_count": 15,
   "metadata": {},
   "outputs": [],
   "source": [
    "def my_func_3(*args, **kwargs):\n",
    "    print(args)\n",
    "    print(kwargs)\n",
    "    if \"fruit\" in kwargs:\n",
    "        print(f\"My {args[0]} fav fruit is: {kwargs['fruit']}\")\n",
    "    else:\n",
    "        pass"
   ]
  },
  {
   "cell_type": "code",
   "execution_count": 16,
   "metadata": {},
   "outputs": [
    {
     "name": "stdout",
     "output_type": "stream",
     "text": [
      "(10, 20)\n",
      "{'fruit': 'melon'}\n",
      "My 10 fav fruit is: melon\n"
     ]
    }
   ],
   "source": [
    "my_func_3(10, 20, fruit=\"melon\")"
   ]
  },
  {
   "attachments": {},
   "cell_type": "markdown",
   "metadata": {},
   "source": [
    "### Type hinting"
   ]
  },
  {
   "cell_type": "code",
   "execution_count": 17,
   "metadata": {},
   "outputs": [
    {
     "name": "stdout",
     "output_type": "stream",
     "text": [
      "3\n",
      "None\n"
     ]
    }
   ],
   "source": [
    "from typing import Union\n",
    "def topla(num1: int, num2: int) -> Union[int, None]:\n",
    "    if isinstance(num1, int) and isinstance(num2, int):\n",
    "        return num1 + num2\n",
    "    else:\n",
    "        return None\n",
    "\n",
    "print(topla(1, 2))\n",
    "print(topla(1, \"a\"))"
   ]
  },
  {
   "attachments": {},
   "cell_type": "markdown",
   "metadata": {},
   "source": [
    "## Functional Programming"
   ]
  },
  {
   "attachments": {},
   "cell_type": "markdown",
   "metadata": {},
   "source": [
    "### Functions are first-class objects in Python"
   ]
  },
  {
   "attachments": {},
   "cell_type": "markdown",
   "metadata": {},
   "source": [
    "Functions have most characteristics as other objects:"
   ]
  },
  {
   "cell_type": "code",
   "execution_count": 18,
   "metadata": {},
   "outputs": [
    {
     "name": "stdout",
     "output_type": "stream",
     "text": [
      "3\n",
      "7\n"
     ]
    }
   ],
   "source": [
    "most_sensible_list = [1, \"a\", topla]\n",
    "print(most_sensible_list[2](1, 2))\n",
    "\n",
    "topla_2 = most_sensible_list[2]\n",
    "print(topla_2(3, 4))"
   ]
  },
  {
   "attachments": {},
   "cell_type": "markdown",
   "metadata": {},
   "source": [
    "Functions can take other functions as arguments:"
   ]
  },
  {
   "cell_type": "code",
   "execution_count": 19,
   "metadata": {},
   "outputs": [
    {
     "name": "stdout",
     "output_type": "stream",
     "text": [
      "3\n"
     ]
    }
   ],
   "source": [
    "def apply(func, arg):\n",
    "    return func(arg)\n",
    "\n",
    "print(apply(sum, [1, 2]))"
   ]
  },
  {
   "attachments": {},
   "cell_type": "markdown",
   "metadata": {},
   "source": [
    "Functions can even return other functions"
   ]
  },
  {
   "cell_type": "code",
   "execution_count": 20,
   "metadata": {},
   "outputs": [
    {
     "name": "stdout",
     "output_type": "stream",
     "text": [
      "10\n",
      "15\n"
     ]
    }
   ],
   "source": [
    "def create_multiplier(n):\n",
    "    def multiplier(x):\n",
    "        return x * n\n",
    "    return multiplier\n",
    "\n",
    "double = create_multiplier(2)\n",
    "triple = create_multiplier(3)\n",
    "\n",
    "print(double(5))\n",
    "print(triple(5))"
   ]
  },
  {
   "attachments": {},
   "cell_type": "markdown",
   "metadata": {},
   "source": [
    "### Decorators"
   ]
  },
  {
   "attachments": {},
   "cell_type": "markdown",
   "metadata": {},
   "source": [
    "Functions that are wrappers to other functions. Functions that are defined with decorators are given as input to decorator function, and is run through it each time."
   ]
  },
  {
   "cell_type": "code",
   "execution_count": 21,
   "metadata": {},
   "outputs": [
    {
     "name": "stdout",
     "output_type": "stream",
     "text": [
      "Before the function is called.\n",
      "Hello!\n",
      "After the function is called.\n"
     ]
    }
   ],
   "source": [
    "def my_decorator(func):\n",
    "    def wrapper():\n",
    "        print(\"Before the function is called.\")\n",
    "        func()\n",
    "        print(\"After the function is called.\")\n",
    "    return wrapper\n",
    "\n",
    "@my_decorator\n",
    "def say_hello():\n",
    "    print(\"Hello!\")\n",
    "\n",
    "say_hello()"
   ]
  },
  {
   "cell_type": "markdown",
   "metadata": {},
   "source": [
    "### Without map, filter, lambda"
   ]
  },
  {
   "cell_type": "code",
   "execution_count": 22,
   "metadata": {},
   "outputs": [],
   "source": [
    "def my_func_4(string):\n",
    "    string_to_return = \"\"\n",
    "    for index, character in enumerate(string):\n",
    "        if index % 2 == 0:\n",
    "            character = character.upper()\n",
    "        else:\n",
    "            character = character.lower()\n",
    "        string_to_return += character\n",
    "    return string_to_return"
   ]
  },
  {
   "cell_type": "code",
   "execution_count": 23,
   "metadata": {},
   "outputs": [
    {
     "data": {
      "text/plain": [
       "'HeLlO'"
      ]
     },
     "execution_count": 23,
     "metadata": {},
     "output_type": "execute_result"
    }
   ],
   "source": [
    "my_func_4(\"hello\")"
   ]
  },
  {
   "attachments": {},
   "cell_type": "markdown",
   "metadata": {},
   "source": [
    "### map(func, iterable): apply func to each element in iterable, then return a map object, which is also an iterable, containing the return values."
   ]
  },
  {
   "attachments": {},
   "cell_type": "markdown",
   "metadata": {},
   "source": [
    "map object does not have a string representation, however it can be turned into a list, then it can be printed to see its elements."
   ]
  },
  {
   "cell_type": "code",
   "execution_count": 24,
   "metadata": {},
   "outputs": [],
   "source": [
    "def square(num):\n",
    "    return num ** 2"
   ]
  },
  {
   "cell_type": "code",
   "execution_count": 25,
   "metadata": {},
   "outputs": [
    {
     "name": "stdout",
     "output_type": "stream",
     "text": [
      "<map object at 0x10527b3d0>\n",
      "[1, 4, 9, 16, 25]\n",
      "1\n",
      "4\n",
      "9\n",
      "16\n",
      "25\n"
     ]
    }
   ],
   "source": [
    "my_nums = [1, 2, 3, 4, 5]\n",
    "\n",
    "print(map(square, my_nums))\n",
    "\n",
    "print(list(map(square, my_nums)))\n",
    "\n",
    "for item in map(square, my_nums):\n",
    "    print(item)"
   ]
  },
  {
   "attachments": {},
   "cell_type": "markdown",
   "metadata": {},
   "source": [
    "### filter(func, iterable): apply func, which should have a bool return type, to each element in iterable. Return a filter object, which is an iterable, containing the items of the original iterable, whose function calls returned True."
   ]
  },
  {
   "cell_type": "code",
   "execution_count": 26,
   "metadata": {},
   "outputs": [
    {
     "name": "stdout",
     "output_type": "stream",
     "text": [
      "<filter object at 0x10527be80>\n"
     ]
    },
    {
     "data": {
      "text/plain": [
       "[2, 4]"
      ]
     },
     "execution_count": 26,
     "metadata": {},
     "output_type": "execute_result"
    }
   ],
   "source": [
    "filter(even_check, my_nums)\n",
    "\n",
    "print(filter(even_check, my_nums))\n",
    "\n",
    "list(filter(even_check, my_nums))"
   ]
  },
  {
   "attachments": {},
   "cell_type": "markdown",
   "metadata": {},
   "source": [
    "### lambda functions: anonymous functions which are used once, in functions like map and filter"
   ]
  },
  {
   "cell_type": "code",
   "execution_count": 27,
   "metadata": {},
   "outputs": [
    {
     "name": "stdout",
     "output_type": "stream",
     "text": [
      "[1, 4, 9, 16, 25]\n",
      "[2, 4]\n"
     ]
    }
   ],
   "source": [
    "print(list(map(lambda num: num**2, my_nums)))\n",
    "\n",
    "print(list(filter(lambda num: num % 2 == 0, my_nums)))"
   ]
  },
  {
   "cell_type": "markdown",
   "metadata": {},
   "source": [
    "### reduce\n",
    "reduce() works differently than map() and filter(). It does not return a new list based on the function and iterable we've passed. Instead, it returns a single value. \\\n",
    "reduce() works by calling the function we passed for the first two items in the sequence. The result returned by the function is used in another call to function alongside with the next (third in this case), element. \\\n",
    "This process repeats until we've gone through all the elements in the sequence."
   ]
  },
  {
   "cell_type": "code",
   "execution_count": 28,
   "metadata": {},
   "outputs": [
    {
     "name": "stdout",
     "output_type": "stream",
     "text": [
      "15\n",
      "With an initial value: 25\n"
     ]
    }
   ],
   "source": [
    "from functools import reduce\n",
    "\n",
    "print(reduce(lambda x, y: x + y, my_nums))\n",
    "\n",
    "print(\"With an initial value: \" + str(reduce(lambda x, y: x + y, my_nums, 10)))"
   ]
  },
  {
   "attachments": {},
   "cell_type": "markdown",
   "metadata": {},
   "source": [
    "## Scope"
   ]
  },
  {
   "attachments": {},
   "cell_type": "markdown",
   "metadata": {},
   "source": [
    "Elements defined inside blocks cannot be used outside blocks, like all other C-based languages. If a variable inside a local scope has same name as a variable outside block, it can access its value. However, local variable cannot change global variable. To accomplish this, global keyword can be used"
   ]
  },
  {
   "cell_type": "code",
   "execution_count": 29,
   "metadata": {},
   "outputs": [
    {
     "name": "stdout",
     "output_type": "stream",
     "text": [
      "50\n",
      "new value of x is new value\n"
     ]
    }
   ],
   "source": [
    "x = 50\n",
    "\n",
    "\n",
    "def my_func_5():\n",
    "    global x\n",
    "\n",
    "    print(x)\n",
    "\n",
    "    x = \"new value\"\n",
    "    print(f\"new value of x is {x}\")\n",
    "\n",
    "\n",
    "my_func_5()"
   ]
  },
  {
   "attachments": {},
   "cell_type": "markdown",
   "metadata": {},
   "source": [
    "Usage of global is not recommended, since it reduces readability and makes debugging harder. x=func(x) is better."
   ]
  },
  {
   "attachments": {},
   "cell_type": "markdown",
   "metadata": {},
   "source": [
    "## yield and Generators"
   ]
  },
  {
   "attachments": {},
   "cell_type": "markdown",
   "metadata": {},
   "source": [
    "yield keyword to create a generator function, which generates each number in the sequence one at a time and suspends execution between iterations, preserving the state of the function. At each iteration, function continues running and yields a value, returns it to \"num\" and stops and waits for next iteration. This is an alternative way to create whole list beforehand."
   ]
  },
  {
   "cell_type": "code",
   "execution_count": 30,
   "metadata": {},
   "outputs": [
    {
     "name": "stdout",
     "output_type": "stream",
     "text": [
      "before for loop\n",
      "inside function, before for\n",
      "current index 0\n",
      "0\n",
      "current index 1\n",
      "1\n",
      "current index 2\n",
      "4\n",
      "current index 3\n",
      "9\n",
      "current index 4\n",
      "16\n"
     ]
    }
   ],
   "source": [
    "def generate_sequence(n):\n",
    "    print(\"inside function, before for\")\n",
    "    for i in range(n):\n",
    "        print(\"current index\", i)\n",
    "        yield i\n",
    "\n",
    "sequence = generate_sequence(5)\n",
    "\n",
    "print(\"before for loop\")\n",
    "\n",
    "for num in sequence:\n",
    "    print(num**2)\n"
   ]
  }
 ],
 "metadata": {
  "interpreter": {
   "hash": "0f853526a81a951ecba467fd520527ad6697815c715772abb96fb84f9d8feaff"
  },
  "kernelspec": {
   "display_name": "Python 3 (ipykernel)",
   "language": "python",
   "name": "python3"
  },
  "language_info": {
   "codemirror_mode": {
    "name": "ipython",
    "version": 3
   },
   "file_extension": ".py",
   "mimetype": "text/x-python",
   "name": "python",
   "nbconvert_exporter": "python",
   "pygments_lexer": "ipython3"
  }
 },
 "nbformat": 4,
 "nbformat_minor": 4
}
