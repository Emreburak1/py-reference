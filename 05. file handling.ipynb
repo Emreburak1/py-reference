{
 "cells": [
  {
   "attachments": {},
   "cell_type": "markdown",
   "metadata": {},
   "source": [
    "# File Handling"
   ]
  },
  {
   "attachments": {},
   "cell_type": "markdown",
   "metadata": {},
   "source": [
    "## Opening a file"
   ]
  },
  {
   "cell_type": "code",
   "execution_count": 1,
   "metadata": {},
   "outputs": [],
   "source": [
    "myfile = open(\"README.md\", \"r\")"
   ]
  },
  {
   "cell_type": "markdown",
   "metadata": {},
   "source": [
    "## Closing an opened file"
   ]
  },
  {
   "attachments": {},
   "cell_type": "markdown",
   "metadata": {},
   "source": [
    "All opened files must be closed in order to prevent leaks and to ensure that resource is released."
   ]
  },
  {
   "cell_type": "code",
   "execution_count": 2,
   "metadata": {},
   "outputs": [],
   "source": [
    "myfile.close()"
   ]
  },
  {
   "attachments": {},
   "cell_type": "markdown",
   "metadata": {},
   "source": [
    "## File opening best practice"
   ]
  },
  {
   "attachments": {},
   "cell_type": "markdown",
   "metadata": {},
   "source": [
    "Using \"with ... as ...\" syntax ensures that file is closed at the end of the block."
   ]
  },
  {
   "cell_type": "code",
   "execution_count": 3,
   "metadata": {},
   "outputs": [
    {
     "name": "stdout",
     "output_type": "stream",
     "text": [
      "File can't be read after it is closed\n"
     ]
    }
   ],
   "source": [
    "with open(\"README.md\") as my_new_file:\n",
    "    contents = my_new_file.read()\n",
    "\n",
    "try:\n",
    "    print(my_new_file.read())\n",
    "except:\n",
    "    print(\"File can't be read after it is closed\")"
   ]
  },
  {
   "attachments": {},
   "cell_type": "markdown",
   "metadata": {},
   "source": [
    "## Reading the opened file"
   ]
  },
  {
   "cell_type": "code",
   "execution_count": 4,
   "metadata": {},
   "outputs": [
    {
     "data": {
      "text/plain": [
       "\"# Python Reference\\n\\nThis is a collection of the notes:\\n- I've taken while learning Python\\n- I use to refresh my Python memory\\n- cool stuff I've encountered while doing my school assignments or work tasks\\n\\nSources:\\n- [w3schools Python Tutorial](https://www.w3schools.com/python/default.asp)\\n- [VBO & Compec Machine Learning Bootcamp (2019)](https://github.com/Emreburak1/bogazici-compec-python-ml)\\n- [Kaggle Python Course](https://www.kaggle.com/learn/python)\\n\""
      ]
     },
     "execution_count": 4,
     "metadata": {},
     "output_type": "execute_result"
    }
   ],
   "source": [
    "myfile = open(\"README.md\", \"r\")\n",
    "myfile.read()"
   ]
  },
  {
   "cell_type": "code",
   "execution_count": 5,
   "metadata": {},
   "outputs": [
    {
     "data": {
      "text/plain": [
       "''"
      ]
     },
     "execution_count": 5,
     "metadata": {},
     "output_type": "execute_result"
    }
   ],
   "source": [
    "myfile.read()"
   ]
  },
  {
   "attachments": {},
   "cell_type": "markdown",
   "metadata": {},
   "source": [
    "read() returns all the content of the file as string, and places the cursor at the end of file. So, running read() again won't return anything."
   ]
  },
  {
   "attachments": {},
   "cell_type": "markdown",
   "metadata": {},
   "source": [
    "### seek(): place the cursor at specified index"
   ]
  },
  {
   "cell_type": "code",
   "execution_count": 6,
   "metadata": {},
   "outputs": [
    {
     "data": {
      "text/plain": [
       "0"
      ]
     },
     "execution_count": 6,
     "metadata": {},
     "output_type": "execute_result"
    }
   ],
   "source": [
    "myfile.seek(0)"
   ]
  },
  {
   "attachments": {},
   "cell_type": "markdown",
   "metadata": {},
   "source": [
    "After placing the cursor at the beginning of the file, we can read all of the content of the file again."
   ]
  },
  {
   "cell_type": "code",
   "execution_count": 7,
   "metadata": {},
   "outputs": [
    {
     "data": {
      "text/plain": [
       "\"# Python Reference\\n\\nThis is a collection of the notes:\\n- I've taken while learning Python\\n- I use to refresh my Python memory\\n- cool stuff I've encountered while doing my school assignments or work tasks\\n\\nSources:\\n- [w3schools Python Tutorial](https://www.w3schools.com/python/default.asp)\\n- [VBO & Compec Machine Learning Bootcamp (2019)](https://github.com/Emreburak1/bogazici-compec-python-ml)\\n- [Kaggle Python Course](https://www.kaggle.com/learn/python)\\n\""
      ]
     },
     "execution_count": 7,
     "metadata": {},
     "output_type": "execute_result"
    }
   ],
   "source": [
    "myfile.read()"
   ]
  },
  {
   "attachments": {},
   "cell_type": "markdown",
   "metadata": {},
   "source": [
    "### readlines(): return lines as list elements"
   ]
  },
  {
   "cell_type": "code",
   "execution_count": 8,
   "metadata": {},
   "outputs": [
    {
     "data": {
      "text/plain": [
       "['# Python Reference\\n',\n",
       " '\\n',\n",
       " 'This is a collection of the notes:\\n',\n",
       " \"- I've taken while learning Python\\n\",\n",
       " '- I use to refresh my Python memory\\n',\n",
       " \"- cool stuff I've encountered while doing my school assignments or work tasks\\n\",\n",
       " '\\n',\n",
       " 'Sources:\\n',\n",
       " '- [w3schools Python Tutorial](https://www.w3schools.com/python/default.asp)\\n',\n",
       " '- [VBO & Compec Machine Learning Bootcamp (2019)](https://github.com/Emreburak1/bogazici-compec-python-ml)\\n',\n",
       " '- [Kaggle Python Course](https://www.kaggle.com/learn/python)\\n']"
      ]
     },
     "execution_count": 8,
     "metadata": {},
     "output_type": "execute_result"
    }
   ],
   "source": [
    "myfile.seek(0)\n",
    "myfile.readlines()"
   ]
  },
  {
   "attachments": {},
   "cell_type": "markdown",
   "metadata": {},
   "source": [
    "## File opening modes"
   ]
  },
  {
   "attachments": {},
   "cell_type": "markdown",
   "metadata": {},
   "source": [
    "### x: Creating a new file (exclusively)"
   ]
  },
  {
   "attachments": {},
   "cell_type": "markdown",
   "metadata": {},
   "source": [
    "Raises error if file already exists"
   ]
  },
  {
   "cell_type": "code",
   "execution_count": 9,
   "metadata": {},
   "outputs": [
    {
     "name": "stdout",
     "output_type": "stream",
     "text": [
      "# Python Reference\n",
      "\n",
      "This is a collection of the notes:\n",
      "- I've taken while learning Python\n",
      "- I use to refresh my Python memory\n",
      "- cool stuff I've encountered while doing my school assignments or work tasks\n",
      "\n",
      "Sources:\n",
      "- [w3schools Python Tutorial](https://www.w3schools.com/python/default.asp)\n",
      "- [VBO & Compec Machine Learning Bootcamp (2019)](https://github.com/Emreburak1/bogazici-compec-python-ml)\n",
      "- [Kaggle Python Course](https://www.kaggle.com/learn/python)\n",
      "\n"
     ]
    }
   ],
   "source": [
    "try:\n",
    "    with open(\"temp.txt\", \"x\") as temp_file:\n",
    "        temp_file.write(contents)\n",
    "except:\n",
    "    print(\"file already exists\")\n",
    "\n",
    "with open(\"temp.txt\", \"r\") as temp_file:\n",
    "    print(temp_file.read())"
   ]
  },
  {
   "attachments": {},
   "cell_type": "markdown",
   "metadata": {},
   "source": [
    "### w: Create new file or overwrite to an existing file"
   ]
  },
  {
   "attachments": {},
   "cell_type": "markdown",
   "metadata": {},
   "source": [
    "Creates a new file and writes to it, or if file already exists, truncates it and writes to it."
   ]
  },
  {
   "cell_type": "code",
   "execution_count": 10,
   "metadata": {},
   "outputs": [
    {
     "name": "stdout",
     "output_type": "stream",
     "text": [
      "aaa\n"
     ]
    }
   ],
   "source": [
    "with open(\"temp.txt\", \"w\") as temp_file:\n",
    "    temp_file.write(\"aaa\")\n",
    "\n",
    "with open(\"temp.txt\", \"r\") as temp_file:\n",
    "    print(temp_file.read())"
   ]
  },
  {
   "attachments": {},
   "cell_type": "markdown",
   "metadata": {},
   "source": [
    "### a: Append to an existing file"
   ]
  },
  {
   "cell_type": "code",
   "execution_count": 11,
   "metadata": {},
   "outputs": [
    {
     "name": "stdout",
     "output_type": "stream",
     "text": [
      "aaabbb\n"
     ]
    }
   ],
   "source": [
    "with open(\"temp.txt\", \"a\") as temp_file:\n",
    "    temp_file.write(\"bbb\")\n",
    "\n",
    "with open(\"temp.txt\", \"r\") as temp_file:\n",
    "    print(temp_file.read())"
   ]
  },
  {
   "attachments": {},
   "cell_type": "markdown",
   "metadata": {},
   "source": [
    "## More details about file modes:"
   ]
  },
  {
   "attachments": {},
   "cell_type": "markdown",
   "metadata": {},
   "source": [
    "[https://mkyong.com/python/python-difference-between-r-w-and-a-in-open/](https://mkyong.com/python/python-difference-between-r-w-and-a-in-open/)"
   ]
  },
  {
   "attachments": {},
   "cell_type": "markdown",
   "metadata": {},
   "source": [
    "## Deleting Files"
   ]
  },
  {
   "attachments": {},
   "cell_type": "markdown",
   "metadata": {},
   "source": [
    "os module is necessary."
   ]
  },
  {
   "cell_type": "code",
   "execution_count": 12,
   "metadata": {},
   "outputs": [],
   "source": [
    "import os\n",
    "os.remove(\"temp.txt\")"
   ]
  }
 ],
 "metadata": {
  "kernelspec": {
   "display_name": "Python 3",
   "language": "python",
   "name": "python3"
  },
  "language_info": {
   "codemirror_mode": {
    "name": "ipython",
    "version": 3
   },
   "file_extension": ".py",
   "mimetype": "text/x-python",
   "name": "python",
   "nbconvert_exporter": "python",
   "pygments_lexer": "ipython3",
   "version": "3.10.11"
  }
 },
 "nbformat": 4,
 "nbformat_minor": 4
}
